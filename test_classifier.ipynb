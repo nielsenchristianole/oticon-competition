{
 "cells": [
  {
   "cell_type": "code",
   "execution_count": null,
   "metadata": {},
   "outputs": [],
   "source": [
    "import torch\n",
    "import os\n",
    "import pickle\n",
    "import pytorch_lightning\n",
    "import numpy as np\n",
    "import matplotlib.pyplot as plt\n",
    "from sklearn.metrics import confusion_matrix\n",
    "\n",
    "from oticon_utils.training_module import TrainingModule\n"
   ]
  },
  {
   "cell_type": "code",
   "execution_count": null,
   "metadata": {},
   "outputs": [],
   "source": [
    "models_dir = 'models/cnn-None'\n",
    "version_path = os.path.join(models_dir, 'lightning_logs', 'version_0')\n",
    "v = 0\n",
    "while True:\n",
    "    v += 1\n",
    "    path = os.path.join(models_dir, 'lightning_logs', f'version_{v}')\n",
    "    if os.path.exists(path):\n",
    "        version_path = path\n",
    "    else:\n",
    "        break\n",
    "\n",
    "test_predictions = np.load(os.path.join(version_path, 'test_predictions.npy'))[:,::-1]\n",
    "test_labels = np.load(os.path.join(version_path, 'test_labels.npy'))"
   ]
  },
  {
   "cell_type": "code",
   "execution_count": null,
   "metadata": {},
   "outputs": [],
   "source": [
    "n_labels = 5\n",
    "top_n_accuracy = np.full(test_labels.shape, False)\n",
    "for i in range(n_labels):\n",
    "    top_n_accuracy |= (test_predictions[:, i] == test_labels)\n",
    "    print(f'Top {i+1} acc: {np.mean(top_n_accuracy):.3}')"
   ]
  },
  {
   "cell_type": "code",
   "execution_count": null,
   "metadata": {},
   "outputs": [],
   "source": [
    "classes = ['Other', 'Music', 'Human speech', 'Trafic', 'Alarms']\n",
    "\n",
    "cm = confusion_matrix(test_labels, test_predictions[:, 0])\n",
    "cm = cm.astype('float') / cm.sum(axis=1)[:, np.newaxis]\n",
    "cm = np.around(cm, decimals=2)\n",
    "cm[np.isnan(cm)] = 0.0\n",
    "\n",
    "\n",
    "fig = plt.figure(figsize=(4,4))\n",
    "cax = plt.imshow(cm, cmap='viridis')\n",
    "fig.colorbar(cax)\n",
    "tick_marks = np.arange(len(classes))\n",
    "plt.title('Confusion Matrix')\n",
    "plt.xticks(tick_marks, classes, rotation=45)\n",
    "plt.yticks(tick_marks, classes)\n",
    "plt.tight_layout()\n",
    "plt.ylabel('True label')\n",
    "plt.xlabel('Predicted label')\n",
    "for i in range(cm.shape[0]):\n",
    "    for j in range(cm.shape[1]):\n",
    "        plt.text(j, i, cm[i, j], horizontalalignment=\"center\", color=\"gray\")\n",
    "cm"
   ]
  }
 ],
 "metadata": {
  "kernelspec": {
   "display_name": "oticon",
   "language": "python",
   "name": "python3"
  },
  "language_info": {
   "codemirror_mode": {
    "name": "ipython",
    "version": 3
   },
   "file_extension": ".py",
   "mimetype": "text/x-python",
   "name": "python",
   "nbconvert_exporter": "python",
   "pygments_lexer": "ipython3",
   "version": "3.10.9"
  },
  "orig_nbformat": 4
 },
 "nbformat": 4,
 "nbformat_minor": 2
}
