{
 "cells": [
  {
   "cell_type": "code",
   "execution_count": null,
   "metadata": {},
   "outputs": [],
   "source": [
    "import os\n",
    "\n",
    "import numpy as np\n",
    "import matplotlib.pyplot as plt\n"
   ]
  },
  {
   "cell_type": "code",
   "execution_count": null,
   "metadata": {},
   "outputs": [],
   "source": [
    "# data import\n",
    "data_dir = './data/'\n",
    "\n",
    "training_data = np.load(os.path.join(data_dir, 'training.npy'))\n",
    "training_labels = np.load(os.path.join(data_dir, 'training_labels.npy'))\n",
    "\n",
    "test_data = np.load(os.path.join(data_dir, 'test.npy'))\n"
   ]
  },
  {
   "cell_type": "code",
   "execution_count": null,
   "metadata": {},
   "outputs": [],
   "source": [
    "# data information\n",
    "unique_labels, label_counts = np.unique(training_labels, return_counts=True)\n",
    "\n",
    "print(f'Training data shape:\\t{training_data.shape}')\n",
    "print(f'Training labels shape:\\t{training_labels.shape}')\n",
    "print('Label counts percent:\\n' + '\\n'.join([f'{label: >5}{count: >7}  {count/len(training_labels):.3}' for label, count in zip(unique_labels, label_counts)]))\n",
    "\n",
    "print(f'Test data shape_\\t{test_data.shape}')"
   ]
  },
  {
   "cell_type": "code",
   "execution_count": null,
   "metadata": {},
   "outputs": [],
   "source": [
    "# data samples\n",
    "np.random.seed(42)\n",
    "n_samples = (4, 6)\n",
    "\n",
    "fig = plt.figure(figsize=(4*n_samples[1], 2*len(unique_labels)*n_samples[0]))\n",
    "figs = fig.subfigures(nrows=len(unique_labels))\n",
    "for row, label in zip(figs, unique_labels):\n",
    "    \n",
    "    row.suptitle(f'Label: {label}', size=24)\n",
    "    \n",
    "    all_label_idxs = np.argwhere(training_labels == label).flatten()\n",
    "    chosen_label_idxs = np.random.choice(all_label_idxs, np.prod(n_samples), replace=False)\n",
    "    \n",
    "    axs = row.subplots(*n_samples)\n",
    "    if not isinstance(axs, np.ndarray):\n",
    "        axs = np.array(axs)\n",
    "    \n",
    "    for chosen_label_idx, ax in zip(chosen_label_idxs, axs.flatten()):\n",
    "        \n",
    "        ax.set_title(f'Img index: {chosen_label_idx}')\n",
    "        ax.imshow(training_data[chosen_label_idx])"
   ]
  }
 ],
 "metadata": {
  "kernelspec": {
   "display_name": "base",
   "language": "python",
   "name": "python3"
  },
  "language_info": {
   "codemirror_mode": {
    "name": "ipython",
    "version": 3
   },
   "file_extension": ".py",
   "mimetype": "text/x-python",
   "name": "python",
   "nbconvert_exporter": "python",
   "pygments_lexer": "ipython3",
   "version": "3.10.9"
  },
  "orig_nbformat": 4
 },
 "nbformat": 4,
 "nbformat_minor": 2
}
